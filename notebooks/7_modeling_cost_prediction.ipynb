{
 "cells": [
  {
   "cell_type": "code",
   "execution_count": 2,
   "id": "b08c12fd",
   "metadata": {},
   "outputs": [
    {
     "name": "stdout",
     "output_type": "stream",
     "text": [
      "\n",
      "✅ MAE: 9259.952453633789\n",
      "✅ R^2 Score: 0.2345688987973762\n",
      "\n",
      "✅ CostEstimator model saved successfully.\n"
     ]
    }
   ],
   "source": [
    "## ✅ Objective\n",
    "# Predict renovation cost using engineered features and job description text.\n",
    "\n",
    "# ✅ Step 1: Load Libraries\n",
    "import pandas as pd\n",
    "import numpy as np\n",
    "import matplotlib.pyplot as plt\n",
    "import seaborn as sns\n",
    "from sklearn.model_selection import train_test_split\n",
    "from sklearn.feature_extraction.text import TfidfVectorizer\n",
    "from sklearn.ensemble import RandomForestRegressor\n",
    "from sklearn.metrics import mean_absolute_error, r2_score\n",
    "from sklearn.pipeline import make_pipeline\n",
    "import sys\n",
    "import os\n",
    "sys.path.append(os.path.abspath(\"../src\"))\n",
    "from cost_estimator import CostEstimator\n",
    "import joblib\n",
    "\n",
    "# ✅ Step 2: Load Data\n",
    "file_path = '../data/processed_data/apartment_cluster_labeled.csv'\n",
    "df = pd.read_csv(file_path)\n",
    "\n",
    "# ✅ Step 3: Feature Engineering\n",
    "# Drop rows with missing cost\n",
    "cost_df = df[df['Initial Cost'].notna()].copy()\n",
    "\n",
    "# Clean and convert cost\n",
    "cost_df['Initial Cost'] = cost_df['Initial Cost'].replace(\"[\\$,]\", \"\", regex=True).astype(float)\n",
    "\n",
    "# Parse year\n",
    "cost_df['Permit Year'] = pd.to_datetime(cost_df['Fully Permitted'], errors='coerce').dt.year\n",
    "\n",
    "# Encode categorical variables\n",
    "cost_df['Borough Code'] = cost_df['Borough'].astype('category').cat.codes\n",
    "cost_df['Job Type Code'] = cost_df['Job Type'].astype('category').cat.codes\n",
    "cost_df['Cluster'] = cost_df['Cluster Label'].astype('category').cat.codes\n",
    "\n",
    "# ✅ Step 4: Define Features and Target\n",
    "X_structured = cost_df[['Borough Code', 'Job Type Code', 'Cluster', 'Permit Year']]\n",
    "y = cost_df['Initial Cost']\n",
    "\n",
    "# ✅ Step 5: Add TF-IDF from Job Description\n",
    "X_text = cost_df['Job Description'].fillna(\"\")\n",
    "\n",
    "# ✅ Step 6: Split Data\n",
    "X_train_struct, X_test_struct, X_train_text, X_test_text, y_train, y_test = train_test_split(\n",
    "    X_structured, X_text, y, test_size=0.2, random_state=42\n",
    ")\n",
    "\n",
    "# ✅ Step 7: Build Model Pipeline\n",
    "class CombinedFeatures:\n",
    "    def __init__(self, tfidf_model):\n",
    "        self.tfidf = tfidf_model\n",
    "\n",
    "    def transform(self, text_series, structured_df):\n",
    "        tfidf_features = self.tfidf.transform(text_series)\n",
    "        return np.hstack((structured_df.values, tfidf_features.toarray()))\n",
    "\n",
    "# Fit TF-IDF\n",
    "tfidf = TfidfVectorizer(stop_words='english', max_features=500)\n",
    "tfidf.fit(X_train_text)\n",
    "\n",
    "# Combine features\n",
    "combiner = CombinedFeatures(tfidf)\n",
    "X_train_combined = combiner.transform(X_train_text, X_train_struct)\n",
    "X_test_combined = combiner.transform(X_test_text, X_test_struct)\n",
    "\n",
    "# Train model\n",
    "model = RandomForestRegressor(n_estimators=100, random_state=42)\n",
    "model.fit(X_train_combined, y_train)\n",
    "\n",
    "# ✅ Step 8: Evaluate Model\n",
    "# ✅ Step 8.1: Define Wrapper Class and Save Final Model\n",
    "\n",
    "y_pred = model.predict(X_test_combined)\n",
    "print(\"\\n✅ MAE:\", mean_absolute_error(y_test, y_pred))\n",
    "print(\"✅ R^2 Score:\", r2_score(y_test, y_pred))\n",
    "\n",
    "# ✅ Step 9: Prepare Mappings and Save CostEstimator Model\n",
    "\n",
    "borough_map = dict(zip(cost_df['Borough'].unique(), cost_df['Borough Code'].unique()))\n",
    "jobtype_map = dict(zip(cost_df['Job Type'].unique(), cost_df['Job Type Code'].unique()))\n",
    "cluster_map = dict(zip(cost_df['Cluster Label'].unique(), cost_df['Cluster'].unique()))\n",
    "\n",
    "final_model = CostEstimator(model, tfidf, borough_map, jobtype_map, cluster_map)\n",
    "joblib.dump(final_model, '../models/cost_predictor_rf.pkl')\n",
    "print(\"\\n✅ CostEstimator model saved successfully.\")"
   ]
  },
  {
   "cell_type": "code",
   "execution_count": 1,
   "id": "830a0cb2",
   "metadata": {},
   "outputs": [
    {
     "name": "stdout",
     "output_type": "stream",
     "text": [
      "1.3.2\n"
     ]
    }
   ],
   "source": [
    "import sklearn\n",
    "print(sklearn.__version__)"
   ]
  }
 ],
 "metadata": {
  "kernelspec": {
   "display_name": "Python 3",
   "language": "python",
   "name": "python3"
  },
  "language_info": {
   "codemirror_mode": {
    "name": "ipython",
    "version": 3
   },
   "file_extension": ".py",
   "mimetype": "text/x-python",
   "name": "python",
   "nbconvert_exporter": "python",
   "pygments_lexer": "ipython3",
   "version": "3.8.20"
  }
 },
 "nbformat": 4,
 "nbformat_minor": 5
}
