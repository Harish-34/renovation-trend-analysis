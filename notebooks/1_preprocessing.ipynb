{
 "cells": [
  {
   "cell_type": "markdown",
   "id": "0018d39c",
   "metadata": {},
   "source": [
    "# 📦 Step-by-Step Cleaning Code\n",
    "\n",
    "##  1. Import & Load the Data"
   ]
  },
  {
   "cell_type": "code",
   "execution_count": 1,
   "id": "3dce7175",
   "metadata": {},
   "outputs": [
    {
     "data": {
      "text/html": [
       "<div>\n",
       "<style scoped>\n",
       "    .dataframe tbody tr th:only-of-type {\n",
       "        vertical-align: middle;\n",
       "    }\n",
       "\n",
       "    .dataframe tbody tr th {\n",
       "        vertical-align: top;\n",
       "    }\n",
       "\n",
       "    .dataframe thead th {\n",
       "        text-align: right;\n",
       "    }\n",
       "</style>\n",
       "<table border=\"1\" class=\"dataframe\">\n",
       "  <thead>\n",
       "    <tr style=\"text-align: right;\">\n",
       "      <th></th>\n",
       "      <th>Job #</th>\n",
       "      <th>Borough</th>\n",
       "      <th>House #</th>\n",
       "      <th>Street Name</th>\n",
       "      <th>Block</th>\n",
       "      <th>Lot</th>\n",
       "      <th>Bin #</th>\n",
       "      <th>Job Type</th>\n",
       "      <th>Community - Board</th>\n",
       "      <th>Curb Cut</th>\n",
       "      <th>Fully Permitted</th>\n",
       "      <th>Initial Cost</th>\n",
       "      <th>Proposed Zoning Sqft</th>\n",
       "      <th>Horizontal Enlrgmt</th>\n",
       "      <th>Vertical Enlrgmt</th>\n",
       "      <th>Enlargement SQ Footage</th>\n",
       "      <th>Zoning Dist1</th>\n",
       "      <th>Job Description</th>\n",
       "    </tr>\n",
       "  </thead>\n",
       "  <tbody>\n",
       "    <tr>\n",
       "      <th>0</th>\n",
       "      <td>123768976</td>\n",
       "      <td>MANHATTAN</td>\n",
       "      <td>1598</td>\n",
       "      <td>2ND AVENUE</td>\n",
       "      <td>1545</td>\n",
       "      <td>49</td>\n",
       "      <td>1049907</td>\n",
       "      <td>A2</td>\n",
       "      <td>108</td>\n",
       "      <td>NaN</td>\n",
       "      <td>NaN</td>\n",
       "      <td>$65,000.00</td>\n",
       "      <td>0</td>\n",
       "      <td>NaN</td>\n",
       "      <td>NaN</td>\n",
       "      <td>0</td>\n",
       "      <td>C1-9</td>\n",
       "      <td>INTERIOR RENOVATION TO COMBINE APARTMENT 2E AN...</td>\n",
       "    </tr>\n",
       "    <tr>\n",
       "      <th>1</th>\n",
       "      <td>140922893</td>\n",
       "      <td>MANHATTAN</td>\n",
       "      <td>160</td>\n",
       "      <td>E 89 ST</td>\n",
       "      <td>1517</td>\n",
       "      <td>43</td>\n",
       "      <td>1048094</td>\n",
       "      <td>A2</td>\n",
       "      <td>108</td>\n",
       "      <td>NaN</td>\n",
       "      <td>7/14/2020</td>\n",
       "      <td>$85,000.00</td>\n",
       "      <td>0</td>\n",
       "      <td>NaN</td>\n",
       "      <td>NaN</td>\n",
       "      <td>0</td>\n",
       "      <td>R8B</td>\n",
       "      <td>HEREBY FILING APPLICATION FOR THE INTERIOR REN...</td>\n",
       "    </tr>\n",
       "    <tr>\n",
       "      <th>2</th>\n",
       "      <td>301773579</td>\n",
       "      <td>BROOKLYN</td>\n",
       "      <td>65</td>\n",
       "      <td>GATES AVENUE</td>\n",
       "      <td>1962</td>\n",
       "      <td>86</td>\n",
       "      <td>3056039</td>\n",
       "      <td>A1</td>\n",
       "      <td>302</td>\n",
       "      <td>NaN</td>\n",
       "      <td>5/23/2007</td>\n",
       "      <td>$60,000.00</td>\n",
       "      <td>0</td>\n",
       "      <td>NaN</td>\n",
       "      <td>NaN</td>\n",
       "      <td>0</td>\n",
       "      <td>R6</td>\n",
       "      <td>Change existing four story and basement brick ...</td>\n",
       "    </tr>\n",
       "    <tr>\n",
       "      <th>3</th>\n",
       "      <td>301976057</td>\n",
       "      <td>BROOKLYN</td>\n",
       "      <td>1401</td>\n",
       "      <td>OCEAN AVENUE</td>\n",
       "      <td>7584</td>\n",
       "      <td>35</td>\n",
       "      <td>3206621</td>\n",
       "      <td>A2</td>\n",
       "      <td>314</td>\n",
       "      <td>NaN</td>\n",
       "      <td>2/28/2006</td>\n",
       "      <td>$75,000.00</td>\n",
       "      <td>0</td>\n",
       "      <td>NaN</td>\n",
       "      <td>NaN</td>\n",
       "      <td>0</td>\n",
       "      <td>NaN</td>\n",
       "      <td>COMBINING OF APARTMENT 4A &amp;amp; 4L.NO CHANGEIN...</td>\n",
       "    </tr>\n",
       "    <tr>\n",
       "      <th>4</th>\n",
       "      <td>301989276</td>\n",
       "      <td>BROOKLYN</td>\n",
       "      <td>154</td>\n",
       "      <td>NOBLE STREET</td>\n",
       "      <td>2573</td>\n",
       "      <td>10</td>\n",
       "      <td>3065099</td>\n",
       "      <td>A1</td>\n",
       "      <td>301</td>\n",
       "      <td>NaN</td>\n",
       "      <td>9/29/2006</td>\n",
       "      <td>$40,000.00</td>\n",
       "      <td>0</td>\n",
       "      <td>NaN</td>\n",
       "      <td>NaN</td>\n",
       "      <td>0</td>\n",
       "      <td>C4-3</td>\n",
       "      <td>New C of O for existing building. New duplex a...</td>\n",
       "    </tr>\n",
       "  </tbody>\n",
       "</table>\n",
       "</div>"
      ],
      "text/plain": [
       "       Job #    Borough House #   Street Name  Block  Lot    Bin # Job Type  \\\n",
       "0  123768976  MANHATTAN    1598    2ND AVENUE   1545   49  1049907       A2   \n",
       "1  140922893  MANHATTAN     160       E 89 ST   1517   43  1048094       A2   \n",
       "2  301773579   BROOKLYN      65  GATES AVENUE   1962   86  3056039       A1   \n",
       "3  301976057   BROOKLYN    1401  OCEAN AVENUE   7584   35  3206621       A2   \n",
       "4  301989276   BROOKLYN     154  NOBLE STREET   2573   10  3065099       A1   \n",
       "\n",
       "   Community - Board Curb Cut Fully Permitted Initial Cost  \\\n",
       "0                108      NaN             NaN  $65,000.00    \n",
       "1                108      NaN       7/14/2020  $85,000.00    \n",
       "2                302      NaN       5/23/2007  $60,000.00    \n",
       "3                314      NaN       2/28/2006  $75,000.00    \n",
       "4                301      NaN       9/29/2006  $40,000.00    \n",
       "\n",
       "   Proposed Zoning Sqft Horizontal Enlrgmt Vertical Enlrgmt  \\\n",
       "0                     0                NaN              NaN   \n",
       "1                     0                NaN              NaN   \n",
       "2                     0                NaN              NaN   \n",
       "3                     0                NaN              NaN   \n",
       "4                     0                NaN              NaN   \n",
       "\n",
       "   Enlargement SQ Footage Zoning Dist1  \\\n",
       "0                       0         C1-9   \n",
       "1                       0          R8B   \n",
       "2                       0           R6   \n",
       "3                       0          NaN   \n",
       "4                       0         C4-3   \n",
       "\n",
       "                                     Job Description  \n",
       "0  INTERIOR RENOVATION TO COMBINE APARTMENT 2E AN...  \n",
       "1  HEREBY FILING APPLICATION FOR THE INTERIOR REN...  \n",
       "2  Change existing four story and basement brick ...  \n",
       "3  COMBINING OF APARTMENT 4A &amp; 4L.NO CHANGEIN...  \n",
       "4  New C of O for existing building. New duplex a...  "
      ]
     },
     "execution_count": 1,
     "metadata": {},
     "output_type": "execute_result"
    }
   ],
   "source": [
    "import pandas as pd\n",
    "\n",
    "# Load the raw dataset\n",
    "df = pd.read_csv('../data/raw_data/apartment_cost_list.csv')\n",
    "df.head()\n"
   ]
  },
  {
   "cell_type": "markdown",
   "id": "f6ad5762",
   "metadata": {},
   "source": [
    "##  2. Check Data Info"
   ]
  },
  {
   "cell_type": "code",
   "execution_count": 2,
   "id": "15885db6",
   "metadata": {},
   "outputs": [
    {
     "name": "stdout",
     "output_type": "stream",
     "text": [
      "<class 'pandas.core.frame.DataFrame'>\n",
      "RangeIndex: 19613 entries, 0 to 19612\n",
      "Data columns (total 18 columns):\n",
      " #   Column                  Non-Null Count  Dtype \n",
      "---  ------                  --------------  ----- \n",
      " 0   Job #                   19613 non-null  int64 \n",
      " 1   Borough                 19613 non-null  object\n",
      " 2   House #                 19613 non-null  object\n",
      " 3   Street Name             19613 non-null  object\n",
      " 4   Block                   19613 non-null  int64 \n",
      " 5   Lot                     19613 non-null  int64 \n",
      " 6   Bin #                   19613 non-null  int64 \n",
      " 7   Job Type                19613 non-null  object\n",
      " 8   Community - Board       19613 non-null  int64 \n",
      " 9   Curb Cut                16 non-null     object\n",
      " 10  Fully Permitted         15625 non-null  object\n",
      " 11  Initial Cost            19613 non-null  object\n",
      " 12  Proposed Zoning Sqft    19613 non-null  int64 \n",
      " 13  Horizontal Enlrgmt      163 non-null    object\n",
      " 14  Vertical Enlrgmt        242 non-null    object\n",
      " 15  Enlargement SQ Footage  19613 non-null  int64 \n",
      " 16  Zoning Dist1            17517 non-null  object\n",
      " 17  Job Description         19613 non-null  object\n",
      "dtypes: int64(7), object(11)\n",
      "memory usage: 2.7+ MB\n"
     ]
    }
   ],
   "source": [
    "df.info()"
   ]
  },
  {
   "cell_type": "markdown",
   "id": "22f1348c",
   "metadata": {},
   "source": [
    "📊 General Shape:\n",
    "- Total rows: 19,613\n",
    "- Total columns: 18\n",
    "- Memory usage: ~2.7 MB"
   ]
  },
  {
   "cell_type": "markdown",
   "id": "916cfd60",
   "metadata": {},
   "source": [
    "### 📋 Column-Wise Insights\n",
    "\n",
    "| Column Name                | Non-Null Count | What It Means                                                    |\n",
    "|----------------------------|----------------|------------------------------------------------------------------|\n",
    "| Job #                      | 19,613         | Fully populated — unique ID per renovation filing               |\n",
    "| Borough                    | 19,613         | Good — every record is associated with a borough                |\n",
    "| House #                    | 19,613         | All present — used for address matching                         |\n",
    "| Street Name                | 19,613         | All present — part of full address                              |\n",
    "| Block, Lot, Bin #          | 19,613         | Good — tax lot/location info fully available                    |\n",
    "| Job Type                   | 19,613         | Fully available — critical for segmentation (A1/A2/A3)          |\n",
    "| Community - Board          | 19,613         | Fully available — good for neighborhood analysis                |\n",
    "| Curb Cut                   | 16             | 💥 Mostly null — not useful for analysis                        |\n",
    "| Fully Permitted            | 15,625         | ❗ ~20% missing — affects time-series modeling                   |\n",
    "| Initial Cost               | 19,613         | Fully present — but needs to be converted to float              |\n",
    "| Proposed Zoning Sqft       | 19,613         | Present — may help zoning analytics                             |\n",
    "| Horizontal/Vertical Enlrgmt| Very sparse    | 💥 Mostly null — optional to drop                               |\n",
    "| Enlargement SQ Footage     | 19,613         | Mostly 0 — check if useful                                      |\n",
    "| Zoning Dist1               | ~17,517        | Some missing — useful for zoning-type grouping                 |\n",
    "| Job Description            | 19,613         | Full — key for NLP and job-type classification                  |\n"
   ]
  },
  {
   "cell_type": "markdown",
   "id": "c00287ea",
   "metadata": {},
   "source": [
    "## 3. Clean Initial Cost Column"
   ]
  },
  {
   "cell_type": "code",
   "execution_count": 3,
   "id": "104c4e4e",
   "metadata": {},
   "outputs": [
    {
     "data": {
      "text/plain": [
       "6791     $59,000.00 \n",
       "2577     $63,000.00 \n",
       "18552    $60,000.00 \n",
       "3601     $68,000.00 \n",
       "8476     $56,000.00 \n",
       "Name: Initial Cost, dtype: object"
      ]
     },
     "execution_count": 3,
     "metadata": {},
     "output_type": "execute_result"
    }
   ],
   "source": [
    "# Check unique formats first\n",
    "df['Initial Cost'].sample(5)"
   ]
  },
  {
   "cell_type": "code",
   "execution_count": 5,
   "id": "59eeccea",
   "metadata": {},
   "outputs": [
    {
     "data": {
      "text/html": [
       "<div>\n",
       "<style scoped>\n",
       "    .dataframe tbody tr th:only-of-type {\n",
       "        vertical-align: middle;\n",
       "    }\n",
       "\n",
       "    .dataframe tbody tr th {\n",
       "        vertical-align: top;\n",
       "    }\n",
       "\n",
       "    .dataframe thead th {\n",
       "        text-align: right;\n",
       "    }\n",
       "</style>\n",
       "<table border=\"1\" class=\"dataframe\">\n",
       "  <thead>\n",
       "    <tr style=\"text-align: right;\">\n",
       "      <th></th>\n",
       "      <th>Initial Cost</th>\n",
       "    </tr>\n",
       "  </thead>\n",
       "  <tbody>\n",
       "    <tr>\n",
       "      <th>count</th>\n",
       "      <td>19613.000000</td>\n",
       "    </tr>\n",
       "    <tr>\n",
       "      <th>mean</th>\n",
       "      <td>59442.155713</td>\n",
       "    </tr>\n",
       "    <tr>\n",
       "      <th>std</th>\n",
       "      <td>26687.304059</td>\n",
       "    </tr>\n",
       "    <tr>\n",
       "      <th>min</th>\n",
       "      <td>40000.000000</td>\n",
       "    </tr>\n",
       "    <tr>\n",
       "      <th>25%</th>\n",
       "      <td>45000.000000</td>\n",
       "    </tr>\n",
       "    <tr>\n",
       "      <th>50%</th>\n",
       "      <td>57000.000000</td>\n",
       "    </tr>\n",
       "    <tr>\n",
       "      <th>75%</th>\n",
       "      <td>70000.000000</td>\n",
       "    </tr>\n",
       "    <tr>\n",
       "      <th>max</th>\n",
       "      <td>490000.000000</td>\n",
       "    </tr>\n",
       "  </tbody>\n",
       "</table>\n",
       "</div>"
      ],
      "text/plain": [
       "        Initial Cost\n",
       "count   19613.000000\n",
       "mean    59442.155713\n",
       "std     26687.304059\n",
       "min     40000.000000\n",
       "25%     45000.000000\n",
       "50%     57000.000000\n",
       "75%     70000.000000\n",
       "max    490000.000000"
      ]
     },
     "execution_count": 5,
     "metadata": {},
     "output_type": "execute_result"
    }
   ],
   "source": [
    "# ✅ Clean Initial Cost column: remove $, commas, and convert to float\n",
    "df['Initial Cost'] = df['Initial Cost'].replace('[\\$,]', '', regex=True).astype(float)\n",
    "\n",
    "# 🧪 Quick check\n",
    "df[['Initial Cost']].describe()"
   ]
  },
  {
   "cell_type": "markdown",
   "id": "0011f635",
   "metadata": {},
   "source": [
    "### ✅ What This Does\n",
    "- Removes dollar signs and commas from the `Initial Cost` column using regular expressions.\n",
    "- Converts the cleaned string values into numeric floats.\n",
    "- Shows summary statistics like mean, min, and max using `.describe()` to verify the conversion."
   ]
  },
  {
   "cell_type": "markdown",
   "id": "cb461e79",
   "metadata": {},
   "source": [
    "# 4. Convert Fully Permitted to Datetime"
   ]
  },
  {
   "cell_type": "code",
   "execution_count": 6,
   "id": "fa707989",
   "metadata": {},
   "outputs": [
    {
     "data": {
      "text/plain": [
       "3988"
      ]
     },
     "execution_count": 6,
     "metadata": {},
     "output_type": "execute_result"
    }
   ],
   "source": [
    "# ✅ Convert Fully Permitted to datetime\n",
    "df['Fully Permitted'] = pd.to_datetime(df['Fully Permitted'], errors='coerce')\n",
    "\n",
    "# 🧪 Check for nulls created during conversion\n",
    "df['Fully Permitted'].isna().sum()\n"
   ]
  },
  {
   "cell_type": "markdown",
   "id": "1459fc43",
   "metadata": {},
   "source": [
    "### ✅ What This Does\n",
    "- Converts the `Fully Permitted` column into proper datetime format using `pd.to_datetime()`.\n",
    "- Rows with invalid date strings will be converted to `NaT` (Not a Time).\n",
    "- We use `errors='coerce'` to avoid crashing on bad data.\n",
    "- Displays how many rows have missing dates after conversion.\n"
   ]
  },
  {
   "cell_type": "markdown",
   "id": "8c0431b5",
   "metadata": {},
   "source": [
    "## 5. Normalize Borough"
   ]
  },
  {
   "cell_type": "code",
   "execution_count": 7,
   "id": "e29672a5",
   "metadata": {},
   "outputs": [
    {
     "data": {
      "text/plain": [
       "array(['Manhattan', 'Brooklyn', 'Bronx', 'Queens', 'Staten Island'],\n",
       "      dtype=object)"
      ]
     },
     "execution_count": 7,
     "metadata": {},
     "output_type": "execute_result"
    }
   ],
   "source": [
    "# ✅ Normalize Borough column (title case and strip whitespace)\n",
    "df['Borough'] = df['Borough'].str.title().str.strip()\n",
    "\n",
    "# 🧪 Check unique boroughs\n",
    "df['Borough'].unique()\n"
   ]
  },
  {
   "cell_type": "markdown",
   "id": "a160ce00",
   "metadata": {},
   "source": [
    "### ✅ What This Does\n",
    "- Converts all borough names to Title Case (e.g., 'MANHATTAN' → 'Manhattan').\n",
    "- Strips any leading or trailing whitespaces.\n",
    "- Displays the list of unique borough values to confirm standardization.\n"
   ]
  },
  {
   "cell_type": "markdown",
   "id": "6d4c0f01",
   "metadata": {},
   "source": [
    "## 6. Drop Rows with Missing Critical Values"
   ]
  },
  {
   "cell_type": "code",
   "execution_count": 8,
   "id": "579804c0",
   "metadata": {},
   "outputs": [
    {
     "name": "stdout",
     "output_type": "stream",
     "text": [
      "Before Cleaning: (19613, 18)\n",
      "After Cleaning: (15625, 18)\n"
     ]
    }
   ],
   "source": [
    "# ✅ Drop rows missing essential fields\n",
    "df_cleaned = df.dropna(subset=['Initial Cost', 'Job Type', 'Fully Permitted'])\n",
    "\n",
    "# 🧪 Show shape before vs after\n",
    "print(\"Before Cleaning:\", df.shape)\n",
    "print(\"After Cleaning:\", df_cleaned.shape)\n"
   ]
  },
  {
   "cell_type": "markdown",
   "id": "925d06d0",
   "metadata": {},
   "source": [
    "### ✅ What This Does\n",
    "- Removes rows where any of the following are missing: `Initial Cost`, `Job Type`, or `Fully Permitted`.\n",
    "- These columns are required for meaningful analysis, trend segmentation, and modeling.\n",
    "- Displays shape of the DataFrame before and after cleaning to confirm how many rows were removed.\n"
   ]
  },
  {
   "cell_type": "markdown",
   "id": "8631a23f",
   "metadata": {},
   "source": [
    "## 7. Save Cleaned Data"
   ]
  },
  {
   "cell_type": "markdown",
   "id": "d2bfd436",
   "metadata": {},
   "source": []
  },
  {
   "cell_type": "code",
   "execution_count": 9,
   "id": "61f4e8a5",
   "metadata": {},
   "outputs": [
    {
     "name": "stdout",
     "output_type": "stream",
     "text": [
      "✅ Cleaned data saved to: ../data/processed_data/apartment_cleaned.csv\n"
     ]
    }
   ],
   "source": [
    "# ✅ Save cleaned data to the processed_data folder\n",
    "output_path = '../data/processed_data/apartment_cleaned.csv'\n",
    "df_cleaned.to_csv(output_path, index=False)\n",
    "\n",
    "print(\"✅ Cleaned data saved to:\", output_path)\n"
   ]
  },
  {
   "cell_type": "markdown",
   "id": "4cfc14fc",
   "metadata": {},
   "source": [
    "### ✅ What This Does\n",
    "- Saves the final cleaned dataset to `data/processed_data/apartment_cleaned.csv`.\n",
    "- This version will be used in all future steps like EDA and ML modeling.\n",
    "- Keeps raw and processed data separate for version control and reproducibility."
   ]
  },
  {
   "cell_type": "code",
   "execution_count": null,
   "id": "0b098bc8",
   "metadata": {},
   "outputs": [],
   "source": []
  }
 ],
 "metadata": {
  "kernelspec": {
   "display_name": "Python 3",
   "language": "python",
   "name": "python3"
  },
  "language_info": {
   "codemirror_mode": {
    "name": "ipython",
    "version": 3
   },
   "file_extension": ".py",
   "mimetype": "text/x-python",
   "name": "python",
   "nbconvert_exporter": "python",
   "pygments_lexer": "ipython3",
   "version": "3.8.20"
  }
 },
 "nbformat": 4,
 "nbformat_minor": 5
}
