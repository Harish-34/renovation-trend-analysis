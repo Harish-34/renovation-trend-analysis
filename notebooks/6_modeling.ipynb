{
 "cells": [
  {
   "cell_type": "code",
   "execution_count": 3,
   "id": "ca059521",
   "metadata": {},
   "outputs": [
    {
     "name": "stdout",
     "output_type": "stream",
     "text": [
      "Fitting 3 folds for each of 6 candidates, totalling 18 fits\n",
      "\n",
      "✅ Classification Report:\n",
      "                        precision    recall  f1-score   support\n",
      "\n",
      "       Combining Units       0.95      0.95      0.95       657\n",
      "    Egress & Occupancy       1.00      0.91      0.95        69\n",
      "Interior Modifications       0.94      0.95      0.95       609\n",
      "   Plumbing & Fixtures       0.96      0.96      0.96      1309\n",
      "       Structural Work       0.96      0.94      0.95       481\n",
      "\n",
      "              accuracy                           0.95      3125\n",
      "             macro avg       0.96      0.94      0.95      3125\n",
      "          weighted avg       0.95      0.95      0.95      3125\n",
      "\n",
      "✅ Accuracy: 0.95424\n",
      "\n",
      "✅ Tuned model saved to models/renovation_cluster_model.pkl\n"
     ]
    }
   ],
   "source": [
    "# 📦 improved_modeling.py\n",
    "\n",
    "import pandas as pd\n",
    "import numpy as np\n",
    "from sklearn.model_selection import train_test_split, GridSearchCV\n",
    "from sklearn.feature_extraction.text import TfidfVectorizer\n",
    "from sklearn.ensemble import RandomForestClassifier\n",
    "from sklearn.pipeline import Pipeline\n",
    "from sklearn.metrics import classification_report, accuracy_score\n",
    "import joblib\n",
    "\n",
    "# ✅ Load the cleaned dataset\n",
    "file_path = '../data/processed_data/apartment_cluster_labeled.csv'\n",
    "df = pd.read_csv(file_path)\n",
    "\n",
    "# ✅ Drop nulls if any\n",
    "if df['Cluster Label'].isnull().any():\n",
    "    df = df.dropna(subset=['Cluster Label'])\n",
    "\n",
    "# ✅ Feature and label\n",
    "X = df['Job Description'].fillna(\"\")\n",
    "y = df['Cluster Label']\n",
    "\n",
    "# ✅ Train-test split\n",
    "X_train, X_test, y_train, y_test = train_test_split(X, y, test_size=0.2, random_state=42, stratify=y)\n",
    "\n",
    "# ✅ Build pipeline\n",
    "pipeline = Pipeline([\n",
    "    ('tfidf', TfidfVectorizer(stop_words='english', max_features=1000)),\n",
    "    ('clf', RandomForestClassifier(class_weight='balanced', random_state=42))\n",
    "])\n",
    "\n",
    "# ✅ Grid search parameters\n",
    "param_grid = {\n",
    "    'clf__n_estimators': [100, 200],\n",
    "    'clf__max_depth': [None, 10, 20]\n",
    "}\n",
    "\n",
    "grid = GridSearchCV(pipeline, param_grid, cv=3, n_jobs=-1, verbose=1)\n",
    "grid.fit(X_train, y_train)\n",
    "\n",
    "# ✅ Evaluation\n",
    "y_pred = grid.predict(X_test)\n",
    "print(\"\\n✅ Classification Report:\")\n",
    "print(classification_report(y_test, y_pred))\n",
    "print(\"✅ Accuracy:\", accuracy_score(y_test, y_pred))\n",
    "\n",
    "# ✅ Save model\n",
    "joblib.dump(grid.best_estimator_, '../models/renovation_cluster_model.pkl')\n",
    "print(\"\\n✅ Tuned model saved to models/renovation_cluster_model.pkl\")"
   ]
  },
  {
   "cell_type": "code",
   "execution_count": 2,
   "id": "e052d669",
   "metadata": {},
   "outputs": [
    {
     "name": "stdout",
     "output_type": "stream",
     "text": [
      "1.3.2\n"
     ]
    }
   ],
   "source": [
    "import sklearn\n",
    "print(sklearn.__version__)"
   ]
  }
 ],
 "metadata": {
  "kernelspec": {
   "display_name": "Python 3",
   "language": "python",
   "name": "python3"
  },
  "language_info": {
   "codemirror_mode": {
    "name": "ipython",
    "version": 3
   },
   "file_extension": ".py",
   "mimetype": "text/x-python",
   "name": "python",
   "nbconvert_exporter": "python",
   "pygments_lexer": "ipython3",
   "version": "3.8.20"
  }
 },
 "nbformat": 4,
 "nbformat_minor": 5
}
